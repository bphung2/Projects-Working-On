{
 "cells": [
  {
   "cell_type": "markdown",
   "metadata": {},
   "source": [
    "## Part 1:\n",
    "\n",
    "Data Preparation"
   ]
  },
  {
   "cell_type": "code",
   "execution_count": 3,
   "metadata": {},
   "outputs": [
    {
     "output_type": "execute_result",
     "data": {
      "text/plain": [
       "  date_posted  funny  helpful  hour_played  is_early_access_review  \\\n",
       "0  2019-02-10      2        4          578                   False   \n",
       "1  2019-02-10      0        0          184                   False   \n",
       "2  2019-02-07      0        0          892                   False   \n",
       "3  2018-06-14    126     1086          676                   False   \n",
       "4  2017-06-20     85     2139          612                   False   \n",
       "\n",
       "  recommendation                                             review  \\\n",
       "0    Recommended  &gt Played as German Reich&gt Declare war on B...   \n",
       "1    Recommended                                               yes.   \n",
       "2    Recommended  Very good game although a bit overpriced in my...   \n",
       "3    Recommended  Out of all the reviews I wrote This one is pro...   \n",
       "4    Recommended  Disclaimer I survivor main. I play games for f...   \n",
       "\n",
       "                                       title  \n",
       "0  expansion  hearts of iron iv man the guns  \n",
       "1  expansion  hearts of iron iv man the guns  \n",
       "2  expansion  hearts of iron iv man the guns  \n",
       "3                           dead by daylight  \n",
       "4                           dead by daylight  "
      ],
      "text/html": "<div>\n<style scoped>\n    .dataframe tbody tr th:only-of-type {\n        vertical-align: middle;\n    }\n\n    .dataframe tbody tr th {\n        vertical-align: top;\n    }\n\n    .dataframe thead th {\n        text-align: right;\n    }\n</style>\n<table border=\"1\" class=\"dataframe\">\n  <thead>\n    <tr style=\"text-align: right;\">\n      <th></th>\n      <th>date_posted</th>\n      <th>funny</th>\n      <th>helpful</th>\n      <th>hour_played</th>\n      <th>is_early_access_review</th>\n      <th>recommendation</th>\n      <th>review</th>\n      <th>title</th>\n    </tr>\n  </thead>\n  <tbody>\n    <tr>\n      <th>0</th>\n      <td>2019-02-10</td>\n      <td>2</td>\n      <td>4</td>\n      <td>578</td>\n      <td>False</td>\n      <td>Recommended</td>\n      <td>&amp;gt Played as German Reich&amp;gt Declare war on B...</td>\n      <td>expansion  hearts of iron iv man the guns</td>\n    </tr>\n    <tr>\n      <th>1</th>\n      <td>2019-02-10</td>\n      <td>0</td>\n      <td>0</td>\n      <td>184</td>\n      <td>False</td>\n      <td>Recommended</td>\n      <td>yes.</td>\n      <td>expansion  hearts of iron iv man the guns</td>\n    </tr>\n    <tr>\n      <th>2</th>\n      <td>2019-02-07</td>\n      <td>0</td>\n      <td>0</td>\n      <td>892</td>\n      <td>False</td>\n      <td>Recommended</td>\n      <td>Very good game although a bit overpriced in my...</td>\n      <td>expansion  hearts of iron iv man the guns</td>\n    </tr>\n    <tr>\n      <th>3</th>\n      <td>2018-06-14</td>\n      <td>126</td>\n      <td>1086</td>\n      <td>676</td>\n      <td>False</td>\n      <td>Recommended</td>\n      <td>Out of all the reviews I wrote This one is pro...</td>\n      <td>dead by daylight</td>\n    </tr>\n    <tr>\n      <th>4</th>\n      <td>2017-06-20</td>\n      <td>85</td>\n      <td>2139</td>\n      <td>612</td>\n      <td>False</td>\n      <td>Recommended</td>\n      <td>Disclaimer I survivor main. I play games for f...</td>\n      <td>dead by daylight</td>\n    </tr>\n  </tbody>\n</table>\n</div>"
     },
     "metadata": {},
     "execution_count": 3
    }
   ],
   "source": [
    "import pandas as pd\n",
    "import numpy as np\n",
    "pd.set_option(\"display.max_rows\", None, \"display.max_columns\", None)\n",
    "\n",
    "#I want to look at the games sold in 2019 and then match it with the Steam reviews\n",
    "#to see if the top selling games are in fact positively received by gamers.\n",
    "#I will also do sentiment analysis on the reviews texts to see how positively gamers praised these games\n",
    "#and what do gamers say about the worst games.\n",
    "\n",
    "reviews_2019= pd.read_csv('steam_reviews.csv')\n",
    "reviews_2019['title']= reviews_2019['title'].str.lower().replace(u'(\\N{COPYRIGHT SIGN}|\\N{TRADE MARK SIGN}|\\N{REGISTERED SIGN})','', regex=True)\n",
    "reviews_2019['title']= reviews_2019['title'].replace(\"[^A-Za-z\\s]*\",\"\", regex=True)\n",
    "reviews_2019.head()\n"
   ]
  },
  {
   "cell_type": "markdown",
   "metadata": {},
   "source": [
    "## Part 2:\n",
    "In this part, I will aggregate all the recommended and not recommended suggestions for each game to see which games\n",
    "has the most amount of recommendations from reviewers from Steam."
   ]
  },
  {
   "cell_type": "code",
   "execution_count": 5,
   "metadata": {},
   "outputs": [
    {
     "output_type": "execute_result",
     "data": {
      "text/plain": [
       "                          title  Recommend  not recommended  \\\n",
       "0  playerunknowns battlegrounds      87081          58604.0   \n",
       "1            grand theft auto v      58989          40967.0   \n",
       "2                          rust      55785          15303.0   \n",
       "3                 rocket league      61743           6164.0   \n",
       "4              dead by daylight      17116           5105.0   \n",
       "\n",
       "   total recommendations  Favorable % Unfavorable %  \n",
       "0                 145685         60.0            40  \n",
       "1                  99956         59.0            41  \n",
       "2                  71088         78.0            22  \n",
       "3                  67907         91.0             9  \n",
       "4                  22221         77.0            23  "
      ],
      "text/html": "<div>\n<style scoped>\n    .dataframe tbody tr th:only-of-type {\n        vertical-align: middle;\n    }\n\n    .dataframe tbody tr th {\n        vertical-align: top;\n    }\n\n    .dataframe thead th {\n        text-align: right;\n    }\n</style>\n<table border=\"1\" class=\"dataframe\">\n  <thead>\n    <tr style=\"text-align: right;\">\n      <th></th>\n      <th>title</th>\n      <th>Recommend</th>\n      <th>not recommended</th>\n      <th>total recommendations</th>\n      <th>Favorable %</th>\n      <th>Unfavorable %</th>\n    </tr>\n  </thead>\n  <tbody>\n    <tr>\n      <th>0</th>\n      <td>playerunknowns battlegrounds</td>\n      <td>87081</td>\n      <td>58604.0</td>\n      <td>145685</td>\n      <td>60.0</td>\n      <td>40</td>\n    </tr>\n    <tr>\n      <th>1</th>\n      <td>grand theft auto v</td>\n      <td>58989</td>\n      <td>40967.0</td>\n      <td>99956</td>\n      <td>59.0</td>\n      <td>41</td>\n    </tr>\n    <tr>\n      <th>2</th>\n      <td>rust</td>\n      <td>55785</td>\n      <td>15303.0</td>\n      <td>71088</td>\n      <td>78.0</td>\n      <td>22</td>\n    </tr>\n    <tr>\n      <th>3</th>\n      <td>rocket league</td>\n      <td>61743</td>\n      <td>6164.0</td>\n      <td>67907</td>\n      <td>91.0</td>\n      <td>9</td>\n    </tr>\n    <tr>\n      <th>4</th>\n      <td>dead by daylight</td>\n      <td>17116</td>\n      <td>5105.0</td>\n      <td>22221</td>\n      <td>77.0</td>\n      <td>23</td>\n    </tr>\n  </tbody>\n</table>\n</div>"
     },
     "metadata": {},
     "execution_count": 5
    }
   ],
   "source": [
    "recommended= reviews_2019[reviews_2019['recommendation'] == 'Recommended'].groupby('title').size().reset_index().rename(columns={0:'Recommend'})\n",
    "total_recommendations= reviews_2019.groupby('title')['recommendation'].count().reset_index().rename(columns={'recommendation':'total recommendations'})\n",
    "not_recommended= reviews_2019[reviews_2019['recommendation'] == 'Not Recommended'].groupby('title').size().reset_index().rename(columns={0:'not recommended'})\n",
    "recommended= recommended.merge(total_recommendations, how='left', on='title')\n",
    "final_recommendation= recommended.merge(not_recommended, how='left', on='title')\n",
    "final_recommendation= final_recommendation[['title','Recommend','not recommended','total recommendations']]\n",
    "final_recommendation['Favorable %']= (final_recommendation['Recommend']/final_recommendation['total recommendations']*100).round()\n",
    "final_recommendation['Unfavorable %']= (final_recommendation['not recommended']/final_recommendation['total recommendations']*100).round().fillna('Does not have a negative review')\n",
    "\n",
    "# Since a lot of the games don't have any negative reviews or don't have enough reviews to make\n",
    "# the game valid to analyze in the first place, I only look at the top 10 games with the most\n",
    "# amount of reviews from players to avoid overfitting.\n",
    "# I checked on Steam and found that Resident Evil 7: Biohazard and Astroneer received an overwhelming amount\n",
    "# of positive reviews from players, so these games may be outliers in the dataset.\n",
    "\n",
    "most_reviews= final_recommendation.sort_values(by='total recommendations', ascending=False).iloc[:10].reset_index().drop(columns='index')\n",
    "most_reviews.head()"
   ]
  },
  {
   "cell_type": "code",
   "execution_count": 6,
   "metadata": {
    "scrolled": true
   },
   "outputs": [
    {
     "output_type": "stream",
     "name": "stderr",
     "text": [
      "[nltk_data] Downloading package vader_lexicon to\n[nltk_data]     /Users/binhphung1003/nltk_data...\n"
     ]
    }
   ],
   "source": [
    "import nltk\n",
    "nltk.download('vader_lexicon')\n",
    "\n",
    "from nltk.sentiment.vader import SentimentIntensityAnalyzer\n",
    "analyzer= SentimentIntensityAnalyzer()"
   ]
  },
  {
   "cell_type": "code",
   "execution_count": 7,
   "metadata": {},
   "outputs": [],
   "source": [
    "reviews_2019['review']= reviews_2019['review'].replace('[^A-Za-z0-9\\s]*','', regex=True).apply(lambda x: str(x))\n",
    "reviews_2019['sentiment score']= reviews_2019['review'].apply(lambda x: analyzer.polarity_scores(x))\n",
    "reviews_2019['compound score']= reviews_2019['sentiment score'].apply(lambda dict: dict['compound'])\n",
    "reviews_2019= reviews_2019.drop(columns=['date_posted', 'funny','helpful','hour_played','is_early_access_review'])\n",
    "steam_ranking= reviews_2019.groupby(['title','compound score']).count().reset_index().drop(columns=['recommendation', 'review','sentiment score'])\n",
    "steam_ranking= steam_ranking.groupby('title')['compound score'].mean().reset_index()\n",
    "most_reviews= most_reviews.merge(steam_ranking, how='left', on='title')"
   ]
  },
  {
   "cell_type": "code",
   "execution_count": 9,
   "metadata": {},
   "outputs": [
    {
     "output_type": "execute_result",
     "data": {
      "text/plain": [
       "                                        title  Recommend  not recommended  \\\n",
       "0                playerunknowns battlegrounds      87081          58604.0   \n",
       "1                          grand theft auto v      58989          40967.0   \n",
       "2                                        rust      55785          15303.0   \n",
       "3                               rocket league      61743           6164.0   \n",
       "4                            dead by daylight      17116           5105.0   \n",
       "5                        monster hunter world      14271           4141.0   \n",
       "6                                   astroneer       2573             88.0   \n",
       "7  the elder scrolls v skyrim special edition        983            490.0   \n",
       "8                resident evil   biohazard re       1377              8.0   \n",
       "9                  sid meiers civilization vi        351            171.0   \n",
       "\n",
       "   total recommendations  Favorable % Unfavorable %  compound score  \n",
       "0                 145685         60.0            40        0.017397  \n",
       "1                  99956         59.0            41        0.051204  \n",
       "2                  71088         78.0            22        0.075645  \n",
       "3                  67907         91.0             9        0.276007  \n",
       "4                  22221         77.0            23        0.122963  \n",
       "5                  18412         78.0            22        0.246375  \n",
       "6                   2661         97.0             3        0.669136  \n",
       "7                   1473         67.0            33        0.553139  \n",
       "8                   1385         99.0             1        0.474983  \n",
       "9                    522         67.0            33        0.373014  "
      ],
      "text/html": "<div>\n<style scoped>\n    .dataframe tbody tr th:only-of-type {\n        vertical-align: middle;\n    }\n\n    .dataframe tbody tr th {\n        vertical-align: top;\n    }\n\n    .dataframe thead th {\n        text-align: right;\n    }\n</style>\n<table border=\"1\" class=\"dataframe\">\n  <thead>\n    <tr style=\"text-align: right;\">\n      <th></th>\n      <th>title</th>\n      <th>Recommend</th>\n      <th>not recommended</th>\n      <th>total recommendations</th>\n      <th>Favorable %</th>\n      <th>Unfavorable %</th>\n      <th>compound score</th>\n    </tr>\n  </thead>\n  <tbody>\n    <tr>\n      <th>0</th>\n      <td>playerunknowns battlegrounds</td>\n      <td>87081</td>\n      <td>58604.0</td>\n      <td>145685</td>\n      <td>60.0</td>\n      <td>40</td>\n      <td>0.017397</td>\n    </tr>\n    <tr>\n      <th>1</th>\n      <td>grand theft auto v</td>\n      <td>58989</td>\n      <td>40967.0</td>\n      <td>99956</td>\n      <td>59.0</td>\n      <td>41</td>\n      <td>0.051204</td>\n    </tr>\n    <tr>\n      <th>2</th>\n      <td>rust</td>\n      <td>55785</td>\n      <td>15303.0</td>\n      <td>71088</td>\n      <td>78.0</td>\n      <td>22</td>\n      <td>0.075645</td>\n    </tr>\n    <tr>\n      <th>3</th>\n      <td>rocket league</td>\n      <td>61743</td>\n      <td>6164.0</td>\n      <td>67907</td>\n      <td>91.0</td>\n      <td>9</td>\n      <td>0.276007</td>\n    </tr>\n    <tr>\n      <th>4</th>\n      <td>dead by daylight</td>\n      <td>17116</td>\n      <td>5105.0</td>\n      <td>22221</td>\n      <td>77.0</td>\n      <td>23</td>\n      <td>0.122963</td>\n    </tr>\n    <tr>\n      <th>5</th>\n      <td>monster hunter world</td>\n      <td>14271</td>\n      <td>4141.0</td>\n      <td>18412</td>\n      <td>78.0</td>\n      <td>22</td>\n      <td>0.246375</td>\n    </tr>\n    <tr>\n      <th>6</th>\n      <td>astroneer</td>\n      <td>2573</td>\n      <td>88.0</td>\n      <td>2661</td>\n      <td>97.0</td>\n      <td>3</td>\n      <td>0.669136</td>\n    </tr>\n    <tr>\n      <th>7</th>\n      <td>the elder scrolls v skyrim special edition</td>\n      <td>983</td>\n      <td>490.0</td>\n      <td>1473</td>\n      <td>67.0</td>\n      <td>33</td>\n      <td>0.553139</td>\n    </tr>\n    <tr>\n      <th>8</th>\n      <td>resident evil   biohazard re</td>\n      <td>1377</td>\n      <td>8.0</td>\n      <td>1385</td>\n      <td>99.0</td>\n      <td>1</td>\n      <td>0.474983</td>\n    </tr>\n    <tr>\n      <th>9</th>\n      <td>sid meiers civilization vi</td>\n      <td>351</td>\n      <td>171.0</td>\n      <td>522</td>\n      <td>67.0</td>\n      <td>33</td>\n      <td>0.373014</td>\n    </tr>\n  </tbody>\n</table>\n</div>"
     },
     "metadata": {},
     "execution_count": 9
    }
   ],
   "source": [
    "most_reviews"
   ]
  },
  {
   "cell_type": "markdown",
   "metadata": {},
   "source": [
    "## Part 3:\n",
    "Looking at GTA 5, PUBG 5, and RUST data, I see that the compound score is very low when the game is \"Favorable\", according\n",
    "to the number of positive comments. Therefore, I will investigate further and see if the negative \n",
    "reviews for GTA 5, PUBG, and RUST were \"extreme\" (i.e. contains curse words or words that intensify the negative effects)"
   ]
  },
  {
   "cell_type": "code",
   "execution_count": 8,
   "metadata": {},
   "outputs": [],
   "source": [
    "gta_5= reviews_2019[reviews_2019['title']== 'grand theft auto v'].reset_index().drop(columns=['sentiment score','compound score','title', 'index'])"
   ]
  },
  {
   "cell_type": "code",
   "execution_count": 23,
   "metadata": {},
   "outputs": [],
   "source": [
    "test= gta_5['review']\n",
    "test= test.apply(lambda x: nltk.word_tokenize(x))\n"
   ]
  },
  {
   "cell_type": "code",
   "execution_count": 24,
   "metadata": {},
   "outputs": [
    {
     "data": {
      "text/plain": [
       "0     [I, love, the, part, in, Online, where, you, g...\n",
       "1     [best, Rockstar, optimization, so, farI, could...\n",
       "2     [After, having, bought, this, game, on, PS3, P...\n",
       "3       [Pros, SP, ModdingCons, Take, Two, Interactive]\n",
       "4     [Everything, in, the, game, now, either, flies...\n",
       "5     [The, single, player, story, was, fun, GTA, on...\n",
       "6     [Single, player, is, fun, but, online, has, be...\n",
       "7     [Hey, forget, about, all, those, cool, mods, b...\n",
       "8     [Great, Campaign, Awful, Customer, Service, an...\n",
       "9                                           [siki, yok]\n",
       "10    [gg, rockstar, you, made, a, good, game, into,...\n",
       "11                                          [Its, good]\n",
       "12                              [No, Mods, No, Freedom]\n",
       "13    [Still, negative, because, this, game, is, jus...\n",
       "14    [Shame, on, the, Developers, for, making, modd...\n",
       "15    [Waited, a, year, and, a, half, for, the, PC, ...\n",
       "16    [Take, Two, are, heartless, cash, grabbing, pi...\n",
       "17      [Making, mods, illegal, What, a, idiotic, idea]\n",
       "18                         [Best, game, in, the, world]\n",
       "19                                                 [No]\n",
       "20    [Up, to, today, I, had, bought, at, least, 10,...\n",
       "21    [THIS, REVIEW, IS, FOR, THE, ONLINE, PORTION, ...\n",
       "22    [R, is, not, the, bad, ppl, here, its, take, 2...\n",
       "23                [Open, IV, is, back, stop, the, hate]\n",
       "24    [this, microtransaction, online, t, that, kill...\n",
       "25                                              [money]\n",
       "26    [full, of, modders, not, worth, playing, at, a...\n",
       "27    [Yeah, go, yourself, with, a, cactus, Rockstar...\n",
       "28    [this, game, and, their, banning, of, players,...\n",
       "29             [On, behalf, of, the, OpenIV, team, you]\n",
       "30    [Single, Player, If, you, intend, to, buy, thi...\n",
       "31    [wtf, i, got, ban, for, evere, becuse, some, o...\n",
       "32                             [Power, to, the, people]\n",
       "33    [Settle, in, friends, The, story, mode, to, th...\n",
       "34    [Trust, me, or, fkin, dont, but, the, anti, ch...\n",
       "35    [This, game, used, to, be, great, USED, TO, BE...\n",
       "36    [Dont, buy, this, game, just, dontPirate, it, ...\n",
       "37    [worst, game, ever, you, cant, play, online, b...\n",
       "38    [Didnt, know, that, besides, being, a, great, ...\n",
       "39    [DONT, get, this, game, if, you, want, to, pla...\n",
       "40    [Really, had, a, blast, the, last, 350, h, bef...\n",
       "41    [The, singleplayer, isnt, the, worst, thing, I...\n",
       "42    [friend, got, the, guy, did, a, heist, togethe...\n",
       "43    [i, got, ban, for, no, reason, you, rockstari,...\n",
       "44    [Sure, Ill, still, play, this, game, but, woul...\n",
       "45    [Great, singlepayer, story, god, awful, multip...\n",
       "46    [After, more, than, 1000, hours, 3, shark, car...\n",
       "47    [I, login, to, GTA, online, after, not, having...\n",
       "48    [BEST, ANTI, CHEAT, SYSTEM, EVER, D, ban, legi...\n",
       "49    [This, review, is, very, much, a, game, of, tw...\n",
       "Name: review, dtype: object"
      ]
     },
     "execution_count": 24,
     "metadata": {},
     "output_type": "execute_result"
    }
   ],
   "source": [
    "test.head(10)"
   ]
  },
  {
   "cell_type": "code",
   "execution_count": 30,
   "metadata": {},
   "outputs": [],
   "source": [
    "fdist= test.apply(lambda x: nltk.probability.FreqDist(x))"
   ]
  }
 ],
 "metadata": {
  "kernelspec": {
   "display_name": "Python 3",
   "language": "python",
   "name": "python3"
  },
  "language_info": {
   "codemirror_mode": {
    "name": "ipython",
    "version": 3
   },
   "file_extension": ".py",
   "mimetype": "text/x-python",
   "name": "python",
   "nbconvert_exporter": "python",
   "pygments_lexer": "ipython3",
   "version": "3.8.5-final"
  }
 },
 "nbformat": 4,
 "nbformat_minor": 4
}